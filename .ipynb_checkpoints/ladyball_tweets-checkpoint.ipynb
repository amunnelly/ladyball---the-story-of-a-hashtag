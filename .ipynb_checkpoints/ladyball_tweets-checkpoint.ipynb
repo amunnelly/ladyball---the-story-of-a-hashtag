{
 "cells": [
  {
   "cell_type": "markdown",
   "metadata": {
    "slideshow": {
     "slide_type": "slide"
    }
   },
   "source": [
    "# Ladyball - the Story of a Hashtag\n",
    "\n",
    "Anthony Munnelly\n",
    "\n",
    "[@anspailpin](https://twitter.com/anspailpin)\n",
    "\n",
    "https://ie.linkedin.com/in/anthonymunnelly"
   ]
  },
  {
   "cell_type": "markdown",
   "metadata": {
    "slideshow": {
     "slide_type": "slide"
    }
   },
   "source": [
    "### Ladyball - Where It Begins\n",
    "On January 13th of this year of grace, 2016, at about lunchtime, the surfing classes of Erin got a shock. This shock:"
   ]
  },
  {
   "cell_type": "markdown",
   "metadata": {
    "slideshow": {
     "slide_type": "slide"
    }
   },
   "source": [
    "![Alanna, Ger, and Lynn](http://img.thesun.co.uk/aidemitlum/archive/02641/03_14173647_389a82_2641612a.jpg)"
   ]
  },
  {
   "cell_type": "markdown",
   "metadata": {
    "slideshow": {
     "slide_type": "slide"
    }
   },
   "source": [
    "Nobody knew what to make of it, except that nobody seemed much to like it. Nobody knew what this Ladyball was for. People were almost certain that it was a joke, but for a joke it didn't seem all that funny."
   ]
  },
  {
   "cell_type": "markdown",
   "metadata": {
    "slideshow": {
     "slide_type": "fragment"
    }
   },
   "source": [
    "About a week later it transpired that Ladyball was a guerilla marketing campaign to announce the Lidl supermarket chain's sponsorship of Ladies' Gaelic Football. But the questions I want to figure out tonight are:\n",
    "1. Was the campaign a success?\n",
    "2. Can a search of the `#ladyball` hashtag on Twitter answer this question?"
   ]
  },
  {
   "cell_type": "markdown",
   "metadata": {
    "slideshow": {
     "slide_type": "slide"
    }
   },
   "source": [
    "### Tweet Metadata\n",
    "The [Twitter api](https://dev.twitter.com/rest/reference/get/statuses/user_timeline) shows a sample tweet, broken down as a json object. Tweets are famous for being short and (sometimes) sweet. But the amount of information that's packed into one tweet is staggering, and a little bit frightening.\n",
    "\n",
    "This is what it looks like:\n",
    "\n",
    "```json\n",
    " {\n",
    "    \"coordinates\": null,\n",
    "    \"favorited\": false,\n",
    "    \"truncated\": false,\n",
    "    \"created_at\": \"Wed Aug 29 17:12:58 +0000 2012\",\n",
    "    \"id_str\": \"240859602684612608\",\n",
    "    \"entities\": {\n",
    "      \"urls\": [\n",
    "        {\n",
    "          \"expanded_url\": \"https://dev.twitter.com/blog/twitter-certified-products\",\n",
    "          \"url\": \"https://t.co/MjJ8xAnT\",\n",
    "          \"indices\": [\n",
    "            52,\n",
    "            73\n",
    "          ],\n",
    "          \"display_url\": \"dev.twitter.com/blog/twitter-c\\u2026\"\n",
    "        }\n",
    "      ],\n",
    "      \"hashtags\": [\n",
    " \n",
    "      ],\n",
    "      \"user_mentions\": [\n",
    " \n",
    "      ]\n",
    "    },\n",
    "    \"in_reply_to_user_id_str\": null,\n",
    "    \"contributors\": null,\n",
    "    \"text\": \"Introducing the Twitter Certified Products Program: https://t.co/MjJ8xAnT\",\n",
    "    \"retweet_count\": 121,\n",
    "    \"in_reply_to_status_id_str\": null,\n",
    "    \"id\": 240859602684612608,\n",
    "    \"geo\": null,\n",
    "    \"retweeted\": false,\n",
    "    \"possibly_sensitive\": false,\n",
    "    \"in_reply_to_user_id\": null,\n",
    "    \"place\": null,\n",
    "    \"user\": {\n",
    "      \"profile_sidebar_fill_color\": \"DDEEF6\",\n",
    "      \"profile_sidebar_border_color\": \"C0DEED\",\n",
    "      \"profile_background_tile\": false,\n",
    "      \"name\": \"Twitter API\",\n",
    "      \"profile_image_url\": \"http://a0.twimg.com/profile_images/2284174872/7df3h38zabcvjylnyfe3_normal.png\",\n",
    "      \"created_at\": \"Wed May 23 06:01:13 +0000 2007\",\n",
    "      \"location\": \"San Francisco, CA\",\n",
    "      \"follow_request_sent\": false,\n",
    "      \"profile_link_color\": \"0084B4\",\n",
    "      \"is_translator\": false,\n",
    "      \"id_str\": \"6253282\",\n",
    "      \"entities\": {\n",
    "        \"url\": {\n",
    "          \"urls\": [\n",
    "            {\n",
    "              \"expanded_url\": null,\n",
    "              \"url\": \"http://dev.twitter.com\",\n",
    "              \"indices\": [\n",
    "                0,\n",
    "                22\n",
    "              ]\n",
    "            }\n",
    "          ]\n",
    "        },\n",
    "        \"description\": {\n",
    "          \"urls\": [\n",
    " \n",
    "          ]\n",
    "        }\n",
    "      },\n",
    "      \"default_profile\": true,\n",
    "      \"contributors_enabled\": true,\n",
    "      \"favourites_count\": 24,\n",
    "      \"url\": \"http://dev.twitter.com\",\n",
    "      \"profile_image_url_https\": \"https://si0.twimg.com/profile_images/2284174872/7df3h38zabcvjylnyfe3_normal.png\",\n",
    "      \"utc_offset\": -28800,\n",
    "      \"id\": 6253282,\n",
    "      \"profile_use_background_image\": true,\n",
    "      \"listed_count\": 10775,\n",
    "      \"profile_text_color\": \"333333\",\n",
    "      \"lang\": \"en\",\n",
    "      \"followers_count\": 1212864,\n",
    "      \"protected\": false,\n",
    "      \"notifications\": null,\n",
    "      \"profile_background_image_url_https\": \"https://si0.twimg.com/images/themes/theme1/bg.png\",\n",
    "      \"profile_background_color\": \"C0DEED\",\n",
    "      \"verified\": true,\n",
    "      \"geo_enabled\": true,\n",
    "      \"time_zone\": \"Pacific Time (US & Canada)\",\n",
    "      \"description\": \"The Real Twitter API. I tweet about API changes, service issues and happily answer questions about Twitter and our API. Don't get an answer? It's on my website.\",\n",
    "      \"default_profile_image\": false,\n",
    "      \"profile_background_image_url\": \"http://a0.twimg.com/images/themes/theme1/bg.png\",\n",
    "      \"statuses_count\": 3333,\n",
    "      \"friends_count\": 31,\n",
    "      \"following\": null,\n",
    "      \"show_all_inline_media\": false,\n",
    "      \"screen_name\": \"twitterapi\"\n",
    "    },\n",
    "    \"in_reply_to_screen_name\": null,\n",
    "    \"source\": \"<a href=\"//sites.google.com/site/yorufukurou/\\\"\" rel=\"\\\"nofollow\\\"\">YoruFukurou</a>\",\n",
    "    \"in_reply_to_status_id\": null\n",
    "  },\n",
    "  {\n",
    "    \"coordinates\": null,\n",
    "    \"favorited\": false,\n",
    "    \"truncated\": false,\n",
    "    \"created_at\": \"Sat Aug 25 17:26:51 +0000 2012\",\n",
    "    \"id_str\": \"239413543487819778\",\n",
    "    \"entities\": {\n",
    "      \"urls\": [\n",
    "        {\n",
    "          \"expanded_url\": \"https://dev.twitter.com/issues/485\",\n",
    "          \"url\": \"https://t.co/p5bOzH0k\",\n",
    "          \"indices\": [\n",
    "            97,\n",
    "            118\n",
    "          ],\n",
    "          \"display_url\": \"dev.twitter.com/issues/485\"\n",
    "        }\n",
    "      ],\n",
    "      \"hashtags\": [\n",
    " \n",
    "      ],\n",
    "      \"user_mentions\": [\n",
    " \n",
    "      ]\n",
    "    },\n",
    "    \"in_reply_to_user_id_str\": null,\n",
    "    \"contributors\": null,\n",
    "    \"text\": \"We are working to resolve issues with application management & logging in to the dev portal: https://t.co/p5bOzH0k ^TS\",\n",
    "    \"retweet_count\": 105,\n",
    "    \"in_reply_to_status_id_str\": null,\n",
    "    \"id\": 239413543487819778,\n",
    "    \"geo\": null,\n",
    "    \"retweeted\": false,\n",
    "    \"possibly_sensitive\": false,\n",
    "    \"in_reply_to_user_id\": null,\n",
    "    \"place\": null,\n",
    "    \"user\": {\n",
    "      \"profile_sidebar_fill_color\": \"DDEEF6\",\n",
    "      \"profile_sidebar_border_color\": \"C0DEED\",\n",
    "      \"profile_background_tile\": false,\n",
    "      \"name\": \"Twitter API\",\n",
    "      \"profile_image_url\": \"http://a0.twimg.com/profile_images/2284174872/7df3h38zabcvjylnyfe3_normal.png\",\n",
    "      \"created_at\": \"Wed May 23 06:01:13 +0000 2007\",\n",
    "      \"location\": \"San Francisco, CA\",\n",
    "      \"follow_request_sent\": false,\n",
    "      \"profile_link_color\": \"0084B4\",\n",
    "      \"is_translator\": false,\n",
    "      \"id_str\": \"6253282\",\n",
    "      \"entities\": {\n",
    "        \"url\": {\n",
    "          \"urls\": [\n",
    "            {\n",
    "              \"expanded_url\": null,\n",
    "              \"url\": \"http://dev.twitter.com\",\n",
    "              \"indices\": [\n",
    "                0,\n",
    "                22\n",
    "              ]\n",
    "            }\n",
    "          ]\n",
    "        },\n",
    "        \"description\": {\n",
    "          \"urls\": [\n",
    " \n",
    "          ]\n",
    "        }\n",
    "      },\n",
    "      \"default_profile\": true,\n",
    "      \"contributors_enabled\": true,\n",
    "      \"favourites_count\": 24,\n",
    "      \"url\": \"http://dev.twitter.com\",\n",
    "      \"profile_image_url_https\": \"https://si0.twimg.com/profile_images/2284174872/7df3h38zabcvjylnyfe3_normal.png\",\n",
    "      \"utc_offset\": -28800,\n",
    "      \"id\": 6253282,\n",
    "      \"profile_use_background_image\": true,\n",
    "      \"listed_count\": 10775,\n",
    "      \"profile_text_color\": \"333333\",\n",
    "      \"lang\": \"en\",\n",
    "      \"followers_count\": 1212864,\n",
    "      \"protected\": false,\n",
    "      \"notifications\": null,\n",
    "      \"profile_background_image_url_https\": \"https://si0.twimg.com/images/themes/theme1/bg.png\",\n",
    "      \"profile_background_color\": \"C0DEED\",\n",
    "      \"verified\": true,\n",
    "      \"geo_enabled\": true,\n",
    "      \"time_zone\": \"Pacific Time (US & Canada)\",\n",
    "      \"description\": \"The Real Twitter API. I tweet about API changes, service issues and happily answer questions about Twitter and our API. Don't get an answer? It's on my website.\",\n",
    "      \"default_profile_image\": false,\n",
    "      \"profile_background_image_url\": \"http://a0.twimg.com/images/themes/theme1/bg.png\",\n",
    "      \"statuses_count\": 3333,\n",
    "      \"friends_count\": 31,\n",
    "      \"following\": null,\n",
    "      \"show_all_inline_media\": false,\n",
    "      \"screen_name\": \"twitterapi\"\n",
    "    },\n",
    "    \"in_reply_to_screen_name\": null,\n",
    "    \"source\": \"<a href=\"//sites.google.com/site/yorufukurou/\\\"\" rel=\"\\\"nofollow\\\"\">YoruFukurou</a>\",\n",
    "    \"in_reply_to_status_id\": null\n",
    "  }\n",
    "```"
   ]
  },
  {
   "cell_type": "markdown",
   "metadata": {
    "slideshow": {
     "slide_type": "slide"
    }
   },
   "source": [
    "### Tweepy\n",
    "*Tweepy* is now the standard module for interacting with Twitter in Python. Each Tweepy search returns an iterable Tweepy result set object. Each iteration is a Tweepy object, that compares to the `.json` we saw just now like so:\n",
    "\n",
    "| .json | Tweepy |\n",
    "|-----|------|\n",
    "|`result[0]['created_at']`| result[0].created_at|\n",
    "|`result[0]['user']['screen_name']`| result[0].user.screen_name|\n",
    "\n",
    "### Collecting the Tweets\n",
    "In the current case, tweets were collected by running a program that had two functions. The first function created the api that allowed us to interact with Twitter in the first place, and the second then collected and pickled the tweets."
   ]
  },
  {
   "cell_type": "markdown",
   "metadata": {
    "slideshow": {
     "slide_type": "slide"
    }
   },
   "source": [
    "### Creating the api\n",
    "You have to register an app with Twitter in order to use the api. Once created, your app supplies you with four passwords - consumer_key, consumer_secret, access_token, and access_token_secret. It is, of course, extremely bad practice to write these into any program, so I prefer to store them as .json and load them at the start. This is the straight-forward code to do so. In previous iterations of tweepy, it was necessary to set a rate-limit-checker yourself - this is now part of the package. Progress is a wonderful thing.\n",
    "```\n",
    "def create_the_api(my_login):\n",
    "\n",
    "    # Log in to Twitter\n",
    "    with open(my_login, 'r') as f:\n",
    "        keys = json.load(f)\n",
    "        \n",
    "    auth = tweepy.OAuthHandler(keys['consumer_key'],\n",
    "                               keys['consumer_secret'])\n",
    "    auth.set_access_token(keys['access_token'],\n",
    "                          keys['access_token_secret'])\n",
    "\n",
    "    return tweepy.API(auth, wait_on_rate_limit=True,\n",
    "                      wait_on_rate_limit_notify=True)\n",
    "\n",
    "api = create_the_api(MY_URL)\n",
    "```"
   ]
  },
  {
   "cell_type": "markdown",
   "metadata": {
    "slideshow": {
     "slide_type": "slide"
    }
   },
   "source": [
    "### Twitter Rate Limits\n",
    "\n",
    "[Twitter limits api access](https://dev.twitter.com/rest/public/rate-limiting). Depending on what you're looking for, you can get fifteen or 180 requests every fifteen minutes. No more. So once we hit that limit, we have no option but to wait out the fifteen minutes until we're ready to go again.\n",
    "\n",
    "Tweepy has an `api.rate_limit_status()` method that shows where we stand for different requests. This is one I made earlier:\n",
    "\n",
    "```\n",
    "{ u'rate_limit_context': { u'access_token': u'¯\\_(ツ)_/¯ ¯\\_(ツ)_/¯ ¯\\_(ツ)_/¯ ¯\\_(ツ)_/¯'},\n",
    "  u'resources': { u'account': { u'/account/login_verification_enrollment': { u'limit': 15,\n",
    "                                                                             u'remaining': 15,\n",
    "                                                                             u'reset': 1454449315},\n",
    "                                u'/account/settings': { u'limit': 15,\n",
    "                                                        u'remaining': 15,\n",
    "                                                        u'reset': 1454449315},\n",
    "                                u'/account/update_profile': { u'limit': 15,\n",
    "                                                              u'remaining': 15,\n",
    "                                                              u'reset': 1454449315},\n",
    "                                u'/account/verify_credentials': { u'limit': 15,\n",
    "                                                                  u'remaining': 15,\n",
    "                                                                  u'reset': 1454449315}},\n",
    "                  u'application': { u'/application/rate_limit_status': { u'limit': 180,\n",
    "                                                                         u'remaining': 175,\n",
    "                                                                         u'reset': 1454449204}},\n",
    "                  u'blocks': { u'/blocks/ids': { u'limit': 15,\n",
    "                                                 u'remaining': 15,\n",
    "                                                 u'reset': 1454449315},\n",
    "                               u'/blocks/list': { u'limit': 15,\n",
    "                                                  u'remaining': 15,\n",
    "                                                  u'reset': 1454449315}},\n",
    "                  u'business_experience': { u'/business_experience/keywords': { u'limit': 450,\n",
    "                                                                                u'remaining': 450,\n",
    "                                                                                u'reset': 1454449315}},\n",
    "                  u'collections': { u'/collections/entries': { u'limit': 1000,\n",
    "                                                               u'remaining': 1000,\n",
    "                                                               u'reset': 1454449315},\n",
    "                                    u'/collections/list': { u'limit': 1000,\n",
    "                                                            u'remaining': 1000,\n",
    "                                                            u'reset': 1454449315},\n",
    "                                    u'/collections/show': { u'limit': 1000,\n",
    "                                                            u'remaining': 1000,\n",
    "                                                            u'reset': 1454449315}},\n",
    "                  u'contacts': { u'/contacts/addressbook': { u'limit': 300,\n",
    "                                                             u'remaining': 300,\n",
    "                                                             u'reset': 1454449315},\n",
    "                                 u'/contacts/delete/status': { u'limit': 300,\n",
    "                                                               u'remaining': 300,\n",
    "                                                               u'reset': 1454449315},\n",
    "                                 u'/contacts/uploaded_by': { u'limit': 300,\n",
    "                                                             u'remaining': 300,\n",
    "                                                             u'reset': 1454449315},\n",
    "                                 u'/contacts/users': { u'limit': 300,\n",
    "                                                       u'remaining': 300,\n",
    "                                                       u'reset': 1454449315},\n",
    "                                 u'/contacts/users_and_uploaded_by': { u'limit': 300,\n",
    "                                                                       u'remaining': 300,\n",
    "                                                                       u'reset': 1454449315}},\n",
    "                  u'device': { u'/device/token': { u'limit': 15,\n",
    "                                                   u'remaining': 15,\n",
    "                                                   u'reset': 1454449315}},\n",
    "                  u'direct_messages': { u'/direct_messages': { u'limit': 15,\n",
    "                                                               u'remaining': 15,\n",
    "                                                               u'reset': 1454449315},\n",
    "                                        u'/direct_messages/sent': { u'limit': 15,\n",
    "                                                                    u'remaining': 15,\n",
    "                                                                    u'reset': 1454449315},\n",
    "                                        u'/direct_messages/sent_and_received': { u'limit': 15,\n",
    "                                                                                 u'remaining': 15,\n",
    "                                                                                 u'reset': 1454449315},\n",
    "                                        u'/direct_messages/show': { u'limit': 15,\n",
    "                                                                    u'remaining': 15,\n",
    "                                                                    u'reset': 1454449315}},\n",
    "                  u'favorites': { u'/favorites/list': { u'limit': 15,\n",
    "                                                        u'remaining': 15,\n",
    "                                                        u'reset': 1454449315}},\n",
    "                  u'feedback': { u'/feedback/events': { u'limit': 1000,\n",
    "                                                        u'remaining': 1000,\n",
    "                                                        u'reset': 1454449315},\n",
    "                                 u'/feedback/show/:id': { u'limit': 180,\n",
    "                                                          u'remaining': 180,\n",
    "                                                          u'reset': 1454449315}},\n",
    "                  u'followers': { u'/followers/ids': { u'limit': 15,\n",
    "                                                       u'remaining': 15,\n",
    "                                                       u'reset': 1454449315},\n",
    "                                  u'/followers/list': { u'limit': 15,\n",
    "                                                        u'remaining': 15,\n",
    "                                                        u'reset': 1454449315}},\n",
    "                  u'friends': { u'/friends/following/ids': { u'limit': 15,\n",
    "                                                             u'remaining': 15,\n",
    "                                                             u'reset': 1454449315},\n",
    "                                u'/friends/following/list': { u'limit': 15,\n",
    "                                                              u'remaining': 15,\n",
    "                                                              u'reset': 1454449315},\n",
    "                                u'/friends/ids': { u'limit': 15,\n",
    "                                                   u'remaining': 15,\n",
    "                                                   u'reset': 1454449315},\n",
    "                                u'/friends/list': { u'limit': 15,\n",
    "                                                    u'remaining': 15,\n",
    "                                                    u'reset': 1454449315}},\n",
    "                  u'friendships': { u'/friendships/incoming': { u'limit': 15,\n",
    "                                                                u'remaining': 15,\n",
    "                                                                u'reset': 1454449315},\n",
    "                                    u'/friendships/lookup': { u'limit': 15,\n",
    "                                                              u'remaining': 15,\n",
    "                                                              u'reset': 1454449315},\n",
    "                                    u'/friendships/no_retweets/ids': { u'limit': 15,\n",
    "                                                                       u'remaining': 15,\n",
    "                                                                       u'reset': 1454449315},\n",
    "                                    u'/friendships/outgoing': { u'limit': 15,\n",
    "                                                                u'remaining': 15,\n",
    "                                                                u'reset': 1454449315},\n",
    "                                    u'/friendships/show': { u'limit': 180,\n",
    "                                                            u'remaining': 180,\n",
    "                                                            u'reset': 1454449315}},\n",
    "                  u'geo': { u'/geo/id/:place_id': { u'limit': 15,\n",
    "                                                    u'remaining': 15,\n",
    "                                                    u'reset': 1454449315},\n",
    "                            u'/geo/reverse_geocode': { u'limit': 15,\n",
    "                                                       u'remaining': 15,\n",
    "                                                       u'reset': 1454449315},\n",
    "                            u'/geo/search': { u'limit': 15,\n",
    "                                              u'remaining': 15,\n",
    "                                              u'reset': 1454449315},\n",
    "                            u'/geo/similar_places': { u'limit': 15,\n",
    "                                                      u'remaining': 15,\n",
    "                                                      u'reset': 1454449315}},\n",
    "                  u'help': { u'/help/configuration': { u'limit': 15,\n",
    "                                                       u'remaining': 15,\n",
    "                                                       u'reset': 1454449315},\n",
    "                             u'/help/languages': { u'limit': 15,\n",
    "                                                   u'remaining': 15,\n",
    "                                                   u'reset': 1454449315},\n",
    "                             u'/help/privacy': { u'limit': 15,\n",
    "                                                 u'remaining': 15,\n",
    "                                                 u'reset': 1454449315},\n",
    "                             u'/help/settings': { u'limit': 15,\n",
    "                                                  u'remaining': 15,\n",
    "                                                  u'reset': 1454449315},\n",
    "                             u'/help/tos': { u'limit': 15,\n",
    "                                             u'remaining': 15,\n",
    "                                             u'reset': 1454449315}},\n",
    "                  u'lists': { u'/lists/list': { u'limit': 15,\n",
    "                                                u'remaining': 15,\n",
    "                                                u'reset': 1454449315},\n",
    "                              u'/lists/members': { u'limit': 180,\n",
    "                                                   u'remaining': 180,\n",
    "                                                   u'reset': 1454449315},\n",
    "                              u'/lists/members/show': { u'limit': 15,\n",
    "                                                        u'remaining': 15,\n",
    "                                                        u'reset': 1454449315},\n",
    "                              u'/lists/memberships': { u'limit': 15,\n",
    "                                                       u'remaining': 15,\n",
    "                                                       u'reset': 1454449315},\n",
    "                              u'/lists/ownerships': { u'limit': 15,\n",
    "                                                      u'remaining': 15,\n",
    "                                                      u'reset': 1454449315},\n",
    "                              u'/lists/show': { u'limit': 15,\n",
    "                                                u'remaining': 15,\n",
    "                                                u'reset': 1454449315},\n",
    "                              u'/lists/statuses': { u'limit': 180,\n",
    "                                                    u'remaining': 180,\n",
    "                                                    u'reset': 1454449315},\n",
    "                              u'/lists/subscribers': { u'limit': 180,\n",
    "                                                       u'remaining': 180,\n",
    "                                                       u'reset': 1454449315},\n",
    "                              u'/lists/subscribers/show': { u'limit': 15,\n",
    "                                                            u'remaining': 15,\n",
    "                                                            u'reset': 1454449315},\n",
    "                              u'/lists/subscriptions': { u'limit': 15,\n",
    "                                                         u'remaining': 15,\n",
    "                                                         u'reset': 1454449315}},\n",
    "                  u'media': { u'/media/upload': { u'limit': 500,\n",
    "                                                  u'remaining': 500,\n",
    "                                                  u'reset': 1454449315}},\n",
    "                  u'moments': { u'/moments/permissions': { u'limit': 300,\n",
    "                                                           u'remaining': 300,\n",
    "                                                           u'reset': 1454449315}},\n",
    "                  u'mutes': { u'/mutes/users/ids': { u'limit': 15,\n",
    "                                                     u'remaining': 15,\n",
    "                                                     u'reset': 1454449315},\n",
    "                              u'/mutes/users/list': { u'limit': 15,\n",
    "                                                      u'remaining': 15,\n",
    "                                                      u'reset': 1454449315}},\n",
    "                  u'saved_searches': { u'/saved_searches/destroy/:id': { u'limit': 15,\n",
    "                                                                         u'remaining': 15,\n",
    "                                                                         u'reset': 1454449315},\n",
    "                                       u'/saved_searches/list': { u'limit': 15,\n",
    "                                                                  u'remaining': 15,\n",
    "                                                                  u'reset': 1454449315},\n",
    "                                       u'/saved_searches/show/:id': { u'limit': 15,\n",
    "                                                                      u'remaining': 15,\n",
    "                                                                      u'reset': 1454449315}},\n",
    "                  u'search': { u'/search/tweets': { u'limit': 180,\n",
    "                                                    u'remaining': 170,\n",
    "                                                    u'reset': 1454449199}},\n",
    "                  u'statuses': { u'/statuses/friends': { u'limit': 15,\n",
    "                                                         u'remaining': 15,\n",
    "                                                         u'reset': 1454449315},\n",
    "                                 u'/statuses/home_timeline': { u'limit': 15,\n",
    "                                                               u'remaining': 15,\n",
    "                                                               u'reset': 1454449315},\n",
    "                                 u'/statuses/lookup': { u'limit': 180,\n",
    "                                                        u'remaining': 180,\n",
    "                                                        u'reset': 1454449315},\n",
    "                                 u'/statuses/mentions_timeline': { u'limit': 15,\n",
    "                                                                   u'remaining': 15,\n",
    "                                                                   u'reset': 1454449315},\n",
    "                                 u'/statuses/oembed': { u'limit': 180,\n",
    "                                                        u'remaining': 180,\n",
    "                                                        u'reset': 1454449315},\n",
    "                                 u'/statuses/retweeters/ids': { u'limit': 15,\n",
    "                                                                u'remaining': 15,\n",
    "                                                                u'reset': 1454449315},\n",
    "                                 u'/statuses/retweets/:id': { u'limit': 60,\n",
    "                                                              u'remaining': 60,\n",
    "                                                              u'reset': 1454449315},\n",
    "                                 u'/statuses/retweets_of_me': { u'limit': 15,\n",
    "                                                                u'remaining': 15,\n",
    "                                                                u'reset': 1454449315},\n",
    "                                 u'/statuses/show/:id': { u'limit': 180,\n",
    "                                                          u'remaining': 180,\n",
    "                                                          u'reset': 1454449315},\n",
    "                                 u'/statuses/user_timeline': { u'limit': 180,\n",
    "                                                               u'remaining': 180,\n",
    "                                                               u'reset': 1454449315}},\n",
    "                  u'trends': { u'/trends/available': { u'limit': 15,\n",
    "                                                       u'remaining': 15,\n",
    "                                                       u'reset': 1454449315},\n",
    "                               u'/trends/closest': { u'limit': 15,\n",
    "                                                     u'remaining': 15,\n",
    "                                                     u'reset': 1454449315},\n",
    "                               u'/trends/place': { u'limit': 15,\n",
    "                                                   u'remaining': 15,\n",
    "                                                   u'reset': 1454449315}},\n",
    "                  u'users': { u'/users/derived_info': { u'limit': 15,\n",
    "                                                        u'remaining': 15,\n",
    "                                                        u'reset': 1454449315},\n",
    "                              u'/users/lookup': { u'limit': 180,\n",
    "                                                  u'remaining': 180,\n",
    "                                                  u'reset': 1454449315},\n",
    "                              u'/users/profile_banner': { u'limit': 180,\n",
    "                                                          u'remaining': 180,\n",
    "                                                          u'reset': 1454449315},\n",
    "                              u'/users/report_spam': { u'limit': 15,\n",
    "                                                       u'remaining': 15,\n",
    "                                                       u'reset': 1454449315},\n",
    "                              u'/users/search': { u'limit': 180,\n",
    "                                                  u'remaining': 180,\n",
    "                                                  u'reset': 1454449315},\n",
    "                              u'/users/show/:id': { u'limit': 181,\n",
    "                                                    u'remaining': 181,\n",
    "                                                    u'reset': 1454449315},\n",
    "                              u'/users/suggestions': { u'limit': 15,\n",
    "                                                       u'remaining': 15,\n",
    "                                                       u'reset': 1454449315},\n",
    "                              u'/users/suggestions/:slug': { u'limit': 15,\n",
    "                                                             u'remaining': 15,\n",
    "                                                             u'reset': 1454449315},\n",
    "                              u'/users/suggestions/:slug/members': { u'limit': 15,\n",
    "                                                                     u'remaining': 15,\n",
    "                 \n",
    "```"
   ]
  },
  {
   "cell_type": "markdown",
   "metadata": {
    "slideshow": {
     "slide_type": "slide"
    }
   },
   "source": [
    "### Creating the tweet-finder function\n",
    "Having created the api function, this is the function that finds the tweets, with a helper function that I'm about to explain.\n",
    "```\n",
    "def max_id_finder(temp):\n",
    "    # A helper function to stop us collecting\n",
    "    # the same data over and over again\n",
    "    #(tweepy.Result) -> (int)\n",
    "    \n",
    "    ids = [int(tweet.id) for tweet in temp]\n",
    "    ids.sort()\n",
    "\n",
    "    return ids[0]\n",
    "\n",
    "\n",
    "def hashtag_searcher(hashtag, count=180, api=api):\n",
    "    if hashtag[0] == '#': # Allow for whether or not the\n",
    "                          # user has included # as part of\n",
    "                          # her hashtag\n",
    "        hashtag = '%23' + hashtag[1:]\n",
    "    else:\n",
    "        hashtag = '%23' + hashtag\n",
    "        \n",
    "    tweets = []\n",
    "    temp = []\n",
    "    for i in range(count):\n",
    "        print i\n",
    "        if temp != []: # Checks to see if loop has run already,\n",
    "                       # and thus needs the max_id parameter\n",
    "            temp = api.search(hashtag,\n",
    "                              max_id = max_id_finder(temp))\n",
    "        else:\n",
    "            temp = api.search(hashtag)\n",
    "        \n",
    "        [tweets.append(t) for t in temp]\n",
    "        \n",
    "    timestamp = datetime.datetime.today()\n",
    "     # Get rid of the %23 to create a valid filename\n",
    "    filename = hashtag[3:] + timestamp.strftime('%Y%m%d')\n",
    "    \n",
    "    with open(filename, 'w') as f:\n",
    "        pickle.dump(tweets, f)\n",
    "        \n",
    "    return tweets\n",
    "```\n"
   ]
  },
  {
   "cell_type": "markdown",
   "metadata": {
    "slideshow": {
     "slide_type": "slide"
    }
   },
   "source": [
    "So this `hashtag_searcher()` function creates two lists, tweets and temp. When the api.search method is called, the results are returned to temp up to the api_rate_limit. Each of the results are then appended to the main, tweets, list, and the once the 15 minute interval has clicked away, the search renews. However, instead of starting over again, it starts at the max_id of the last returned value - it goes back to where it left off, in other words.\n",
    "\n",
    "Once the full count has run, the tweets list is both is pickled and returned - a belt and braces undertaking, in keeping with the long time these searches can take.\n",
    "```\n",
    "if __name__ == '__main__':\n",
    "    api = create_the_api(\"my_twitter_login.json\")\n",
    "    tweets = hashtag_searcher('ladyball', 1000, api)\n",
    "```"
   ]
  },
  {
   "cell_type": "markdown",
   "metadata": {
    "slideshow": {
     "slide_type": "slide"
    }
   },
   "source": [
    "### Analysing the Tweets\n",
    "With the tweets successfully harvested and pickled, we can analyse them using this super iPython notebook."
   ]
  },
  {
   "cell_type": "code",
   "execution_count": 1,
   "metadata": {
    "collapsed": true,
    "slideshow": {
     "slide_type": "fragment"
    }
   },
   "outputs": [],
   "source": [
    "import tweepy\n",
    "import pandas as pd\n",
    "import matplotlib.pyplot as plt\n",
    "import pickle\n",
    "import glob"
   ]
  },
  {
   "cell_type": "markdown",
   "metadata": {
    "slideshow": {
     "slide_type": "slide"
    }
   },
   "source": [
    "I've pickled these `#ladyball` tweets since January 14th. So, what I'm going to do next is\n",
    "1. Load up the pickles from where they're stored into a single list, `tweets_prime`.\n",
    "2. Prune that list to remove the duplicates. Every tweet has its own unique id, identified as `id` or `id_str`. We'll use that to catch the spares."
   ]
  },
  {
   "cell_type": "code",
   "execution_count": 47,
   "metadata": {
    "collapsed": true,
    "slideshow": {
     "slide_type": "fragment"
    }
   },
   "outputs": [],
   "source": [
    "ladyballs = glob.glob(\"~/pickled_ladyballs/*\")"
   ]
  },
  {
   "cell_type": "code",
   "execution_count": 3,
   "metadata": {
    "collapsed": false,
    "slideshow": {
     "slide_type": "fragment"
    }
   },
   "outputs": [],
   "source": [
    "tweets_prime = []\n",
    "for ball in ladyballs:\n",
    "    with open(ball) as f:\n",
    "        temp = pickle.load(f)\n",
    "        [tweets_prime.append(t) for t in temp]"
   ]
  },
  {
   "cell_type": "code",
   "execution_count": 4,
   "metadata": {
    "collapsed": false,
    "slideshow": {
     "slide_type": "slide"
    }
   },
   "outputs": [
    {
     "name": "stdout",
     "output_type": "stream",
     "text": [
      "<class 'tweepy.models.Status'>\n"
     ]
    },
    {
     "data": {
      "text/plain": [
       "9686"
      ]
     },
     "execution_count": 4,
     "metadata": {},
     "output_type": "execute_result"
    }
   ],
   "source": [
    "print type(tweets_prime[0])\n",
    "len(tweets_prime)"
   ]
  },
  {
   "cell_type": "code",
   "execution_count": 5,
   "metadata": {
    "collapsed": false,
    "slideshow": {
     "slide_type": "fragment"
    }
   },
   "outputs": [
    {
     "name": "stdout",
     "output_type": "stream",
     "text": [
      "3774\n"
     ]
    }
   ],
   "source": [
    "id_watcher = []\n",
    "ladyballs = []\n",
    "for t in tweets_prime:\n",
    "    if t.id_str not in id_watcher:\n",
    "        ladyballs.append(t)\n",
    "        id_watcher.append(t.id_str)\n",
    "        \n",
    "print len(ladyballs)"
   ]
  },
  {
   "cell_type": "markdown",
   "metadata": {
    "slideshow": {
     "slide_type": "slide"
    }
   },
   "source": [
    "### Looking at the Tweet Dates\n",
    "The easiest way to look at the tweet dates is to create a data frame and use that to pull from the `ladyballs` list such data as a data frame is unsuited to storing, such as text.\n",
    "My method of choice for creating dataframes is to create a dictionary and then turn that dictionary into a dataframe. And for creating dictionary, there's nothing as handy as the defaultdict in the collections module. It's so neat and tidy."
   ]
  },
  {
   "cell_type": "code",
   "execution_count": 28,
   "metadata": {
    "collapsed": false,
    "slideshow": {
     "slide_type": "slide"
    }
   },
   "outputs": [
    {
     "name": "stdout",
     "output_type": "stream",
     "text": [
      "              created_at      screen_name              id_str  \\\n",
      "1725 2016-01-09 06:58:06     HatTrickClub  685717163265527808   \n",
      "1724 2016-01-11 15:28:17     deboralkelly  686570333000855552   \n",
      "1723 2016-01-13 12:44:10  theladyball_com  687253805474250752   \n",
      "1722 2016-01-13 13:30:17  theladyball_com  687265410987601921   \n",
      "1721 2016-01-13 13:46:08       kevjclarke  687269401922502656   \n",
      "1720 2016-01-13 13:53:59     JulietteGash  687271373731938304   \n",
      "1719 2016-01-13 13:58:48  theladyball_com  687272586410115073   \n",
      "1718 2016-01-13 14:13:00        EamonLowe  687276162083590144   \n",
      "1717 2016-01-13 14:34:49     garethgregan  687281653551599616   \n",
      "1716 2016-01-13 14:35:45  theladyball_com  687281888059371521   \n",
      "\n",
      "      followers_count textdescription  retweet_count  \n",
      "1725               48             NaN              0  \n",
      "1724             5312             NaN              1  \n",
      "1723              374             NaN              1  \n",
      "1722              374             NaN              7  \n",
      "1721              497             NaN              0  \n",
      "1720             6298             NaN              1  \n",
      "1719              374             NaN              0  \n",
      "1718             1982             NaN              0  \n",
      "1717             1024             NaN              1  \n",
      "1716              374             NaN              0  \n"
     ]
    }
   ],
   "source": [
    "from collections import defaultdict\n",
    "\n",
    "def create_dataframe(tweetList):\n",
    "    '''\n",
    "    (list) -> (data frame)\n",
    "    '''\n",
    "    my_initial_dict = defaultdict(list)\n",
    "\n",
    "    my_initial_dict['created_at'] = [t.created_at for t in tweetList]\n",
    "    my_initial_dict['screen_name'] = [t.user.screen_name for t in tweetList]\n",
    "    my_initial_dict['id_str'] = [t.id_str for t in tweetList]\n",
    "    my_initial_dict['followers_count'] = [t.user.followers_count for t in tweetList]\n",
    "    my_initial_dict['text'] = [t.text for t in tweetList]\n",
    "    my_initial_dict['description'] = [t.user.description for t in tweetList]\n",
    "    my_initial_dict['retweet_count'] = [t.retweet_count for t in tweetList]\n",
    "\n",
    "    new_dataframe = pd.DataFrame(my_initial_dict, columns = ['created_at',\n",
    "                                                            'screen_name',\n",
    "                                                            'id_str',\n",
    "                                                            'followers_count',\n",
    "                                                            'text'\n",
    "                                                           'description',\n",
    "                                                           'retweet_count'])\n",
    "    return new_dataframe\n",
    "\n",
    "df_ladyballs = create_dataframe(ladyballs)\n",
    "# Life is much handier if we sort the list by date.\n",
    "df_ladyballs.sort_values('created_at', inplace=True, ascending=True)\n",
    "print df_ladyballs.head(10)"
   ]
  },
  {
   "cell_type": "markdown",
   "metadata": {
    "slideshow": {
     "slide_type": "slide"
    }
   },
   "source": [
    "### Looking at the Tweet text\n",
    "We'll look at the first twenty tweets to see what we can figure out as regards the _fons et origio_ of the `#ladyball` hashtag."
   ]
  },
  {
   "cell_type": "code",
   "execution_count": 7,
   "metadata": {
    "collapsed": false,
    "slideshow": {
     "slide_type": "slide"
    }
   },
   "outputs": [
    {
     "name": "stdout",
     "output_type": "stream",
     "text": [
      "HatTrickClub (48 followers)\n",
      "@footscc @MagpiesCMCC @vicpremcricket last ball #ladyball!\n",
      "--------------------------------------------------\n",
      "deboralkelly (5312 followers)\n",
      "Kudos to Ovarian Cancer Canada's #ladyball campaign -- it's a bold move to save women's lives https://t.co/OvvClwpv5f #marketing\n",
      "--------------------------------------------------\n",
      "theladyball_com (374 followers)\n",
      "Trust us girls, you need #Ladyball in your life...Coming soon x #WatchThisSpace https://t.co/6QjOuJudLl\n",
      "--------------------------------------------------\n",
      "theladyball_com (374 followers)\n",
      "Is she a keeper? She is if she has a #Ladyball. https://t.co/Ipa3YLdfA1\n",
      "--------------------------------------------------\n",
      "kevjclarke (497 followers)\n",
      "Assumed this was legit until I saw Ger Brennan as spokesperson. #ladyball https://t.co/UOQAd3UcvU\n",
      "--------------------------------------------------\n",
      "JulietteGash (6298 followers)\n",
      "Surely a piss take? #Ladyball @Louise_Johnston\n",
      "--------------------------------------------------\n",
      "theladyball_com (374 followers)\n",
      "@Louise_Johnston Yaaaay Louise! Delighted to hear you're on board #Ladyball is here to stay #squadgoals 💃🏼👠⚽️\n",
      "--------------------------------------------------\n",
      "EamonLowe (1982 followers)\n",
      "Thanks @JulietteGash\n",
      "\n",
      "Twitter, what are you waiting for?\n",
      "\n",
      "Introducing The #Ladyball! https://t.co/650CCgkXr6 https://t.co/7XZdyGZGDF\n",
      "--------------------------------------------------\n",
      "garethgregan (1024 followers)\n",
      "This is hilarious! (at least I hope it's a joke).. #ladyball https://t.co/8WLLzbvoCi\n",
      "--------------------------------------------------\n",
      "theladyball_com (374 followers)\n",
      "@ShinnFinn @denisefmckenna a revolution in evolution #Ladyball is made 4 ladies by ladies to encourage women to get involved in team sports😊\n",
      "--------------------------------------------------\n",
      "theladyball_com (374 followers)\n",
      "@JonjoQ @ShinnFinn @denisefmckenna @Louise_Johnston glad you think so! Btw not just for GAA, all sports needing a ball welcome #Ladyball\n",
      "--------------------------------------------------\n",
      "theladyball_com (374 followers)\n",
      "@ponyyelof @ShinnFinn @denisefmckenna @Louise_Johnston not at all, here it is! #Ladyball https://t.co/YfZoth6jtf\n",
      "--------------------------------------------------\n",
      "theladyball_com (374 followers)\n",
      "@murf @annabellee0 not at all! Here it is 😄 #Ladyball https://t.co/2Z3yy40VMR\n",
      "--------------------------------------------------\n",
      "ImogenMcN (134 followers)\n",
      "Oh please... *she sighs* #ladyball https://t.co/EtpXBkJDRq\n",
      "--------------------------------------------------\n",
      "KevByrneBox (2730 followers)\n",
      "Riiiight #LadyBall #ManBalls https://t.co/k3zMDXgrZy\n",
      "--------------------------------------------------\n",
      "theladyball_com (374 followers)\n",
      "@sweetpmac introducing #Ladyball! Launching now with our ambassador Dub football Ger Brennan https://t.co/cWhKAAneRY\n",
      "--------------------------------------------------\n",
      "theladyball_com (374 followers)\n",
      "@Anderson8Paul @PaulFedayn nothing fake about this! Launch pics just done 😄 #Ladyball https://t.co/lmctdxZw2l\n",
      "--------------------------------------------------\n",
      "StFanahan (735 followers)\n",
      "Remember people, if you're going shifting make sure to check for @theladyball_com #ladyball\n",
      "--------------------------------------------------\n",
      "ElaineBucko (3445 followers)\n",
      "Really thought @theladyball_com was some sort of bizarre joke but NO,it appears to be real. WHAT THE WHAT. #Ladyball https://t.co/2fw1mpxrnz\n",
      "--------------------------------------------------\n",
      "ElaineBucko (3445 followers)\n",
      "\"Women just had to make do with balls meant for men.\" All those years, slumming it with O'Neill's official match balls. NO MORE.  #Ladyball\n",
      "--------------------------------------------------\n"
     ]
    }
   ],
   "source": [
    "first_ten_tweets = list(df_ladyballs['id_str'].head(20).values)\n",
    "for item in first_ten_tweets:\n",
    "    for t in ladyballs:\n",
    "        if item == t.id_str:\n",
    "            print t.user.screen_name + \" (\" + str(t.user.followers_count) + \" followers)\"\n",
    "            print t.text\n",
    "            print \"-\"*50\n"
   ]
  },
  {
   "cell_type": "markdown",
   "metadata": {
    "collapsed": false,
    "slideshow": {
     "slide_type": "slide"
    }
   },
   "source": [
    "### Looking at the Life Cycle\n",
    "We can look at the life cycle of the `ladyball` hashtag to see when people were talking about it, and we can do this by grouping by date - kind of. To group by date, we have to\n",
    "1. Create a new column on the dataframe, with a string representation of the date\n",
    "2. Group by this column.\n",
    "This is how that works out in this case:"
   ]
  },
  {
   "cell_type": "code",
   "execution_count": 8,
   "metadata": {
    "collapsed": false,
    "slideshow": {
     "slide_type": "fragment"
    }
   },
   "outputs": [
    {
     "name": "stdout",
     "output_type": "stream",
     "text": [
      "09 Jan 1\n",
      "11 Jan 1\n",
      "13 Jan 901\n",
      "14 Jan 966\n",
      "15 Jan 1208\n",
      "16 Jan 381\n",
      "17 Jan 75\n",
      "18 Jan 68\n",
      "19 Jan 90\n",
      "20 Jan 26\n",
      "21 Jan 36\n",
      "22 Jan 18\n",
      "23 Jan 3\n"
     ]
    }
   ],
   "source": [
    "day_month = [tweet.strftime('%d %b') for tweet in df_ladyballs['created_at']]\n",
    "df_ladyballs['day'] = day_month\n",
    "ladyballs_by_day = df_ladyballs.groupby('day')\n",
    "for a, b in ladyballs_by_day:\n",
    "    print a, b.created_at.count()"
   ]
  },
  {
   "cell_type": "markdown",
   "metadata": {
    "slideshow": {
     "slide_type": "slide"
    }
   },
   "source": [
    "### Looking at the Exposure\n",
    "It's not true to say that a tweet is only seen by someone's followers. A tweet can be quoted or retweeted, it can found in a search, it can be found when a hashtag is trending. All these things. But as there's no point in throwing up our hands and saying ah, who knows?, the convention has become to look at a tweet's reach, or exposure, as being dependent on that particular tweeter's followers.\n",
    "So, what is the follower distribution like among the `#ladyball` tweeters?"
   ]
  },
  {
   "cell_type": "code",
   "execution_count": 9,
   "metadata": {
    "collapsed": false,
    "slideshow": {
     "slide_type": "fragment"
    }
   },
   "outputs": [
    {
     "data": {
      "text/plain": [
       "{'boxes': [<matplotlib.lines.Line2D at 0x115b721d0>],\n",
       " 'caps': [<matplotlib.lines.Line2D at 0x11b408410>,\n",
       "  <matplotlib.lines.Line2D at 0x1295ed990>],\n",
       " 'fliers': [<matplotlib.lines.Line2D at 0x11b663e50>],\n",
       " 'means': [],\n",
       " 'medians': [<matplotlib.lines.Line2D at 0x116a80790>],\n",
       " 'whiskers': [<matplotlib.lines.Line2D at 0x12d25e0d0>,\n",
       "  <matplotlib.lines.Line2D at 0x115c82b50>]}"
      ]
     },
     "execution_count": 9,
     "metadata": {},
     "output_type": "execute_result"
    },
    {
     "data": {
      "image/png": "[encoded data removed]",
      "text/plain": [
       "<matplotlib.figure.Figure at 0x117391490>"
      ]
     },
     "metadata": {},
     "output_type": "display_data"
    }
   ],
   "source": [
    "%matplotlib inline\n",
    "plt.boxplot(df_ladyballs.followers_count)"
   ]
  },
  {
   "cell_type": "markdown",
   "metadata": {
    "slideshow": {
     "slide_type": "fragment"
    }
   },
   "source": [
    "That's one crazy-looking boxplot. Let's see the actual figures."
   ]
  },
  {
   "cell_type": "code",
   "execution_count": 10,
   "metadata": {
    "collapsed": false,
    "slideshow": {
     "slide_type": "slide"
    }
   },
   "outputs": [
    {
     "name": "stdout",
     "output_type": "stream",
     "text": [
      "count       3774.000000\n",
      "mean        5543.403286\n",
      "std        95562.944061\n",
      "min            0.000000\n",
      "25%          236.000000\n",
      "50%          578.500000\n",
      "75%         1486.250000\n",
      "max      5738471.000000\n",
      "Name: followers_count, dtype: float64\n"
     ]
    }
   ],
   "source": [
    "print df_ladyballs.followers_count.describe()"
   ]
  },
  {
   "cell_type": "markdown",
   "metadata": {
    "slideshow": {
     "slide_type": "fragment"
    }
   },
   "source": [
    "Isn't that interesting? 75% of our tweets, 2,530 of them, have follower counts of 1,486 or lower. The remaining 994 have over five and a half-million between them. Let's see who they are, by slicing the data frame into a `high_end`, those accounts with more than 1,486 followers, and `low_end`, the remaining majority of accounts."
   ]
  },
  {
   "cell_type": "code",
   "execution_count": 11,
   "metadata": {
    "collapsed": false,
    "slideshow": {
     "slide_type": "slide"
    }
   },
   "outputs": [
    {
     "data": {
      "image/png": "[encoded data removed]",
      "text/plain": [
       "<matplotlib.figure.Figure at 0x12189e490>"
      ]
     },
     "metadata": {},
     "output_type": "display_data"
    }
   ],
   "source": [
    "%matplotlib inline\n",
    "high_end = df_ladyballs[df_ladyballs['followers_count'] > 1486]\n",
    "low_end = df_ladyballs[df_ladyballs['followers_count'] < 1486]\n",
    "fig, ax = plt.subplots(1,2)\n",
    "ax[0].boxplot(low_end.followers_count.values)\n",
    "ax[0].set_title('Low End')\n",
    "ax[1].boxplot(high_end.followers_count.values)\n",
    "ax[1].set_title('High End')\n",
    "fig.subplots_adjust(wspace = 0.5)"
   ]
  },
  {
   "cell_type": "markdown",
   "metadata": {
    "slideshow": {
     "slide_type": "subslide"
    }
   },
   "source": [
    "#### Plotting Aside\n",
    "We shuld note that we're plotting `high_end.followers_count.values` rather than `high_end.followers_count`.\n",
    "This is because we've taken a slice of the original `df_ladyballs` data frame, this throws off the indexing,\n",
    "and the thrown indexing goes on to throw `matplotlib`. There may be a more elegant way around this problem than calling `values`, but calling `values` works and that's enough for me."
   ]
  },
  {
   "cell_type": "markdown",
   "metadata": {
    "collapsed": false,
    "slideshow": {
     "slide_type": "slide"
    }
   },
   "source": [
    "### Dealing with the Outliers\n",
    "There are still an enormous amount of outliers in the high end. Obviously, the 5.5 million is the biggest beast of all. Let's drop that and see what happens."
   ]
  },
  {
   "cell_type": "code",
   "execution_count": 12,
   "metadata": {
    "collapsed": false,
    "slideshow": {
     "slide_type": "fragment"
    }
   },
   "outputs": [
    {
     "data": {
      "image/png": "[encoded data removed]",
      "text/plain": [
       "<matplotlib.figure.Figure at 0x1273c7d10>"
      ]
     },
     "metadata": {},
     "output_type": "display_data"
    }
   ],
   "source": [
    "high_end_minus_outlier = high_end[high_end['followers_count'] < 5738471]\n",
    "\n",
    "%matplotlib inline\n",
    "fig, ax = plt.subplots(1,3)\n",
    "ax[0].boxplot(low_end.followers_count.values)\n",
    "ax[0].set_title('Low End')\n",
    "ax[1].boxplot(high_end.followers_count.values)\n",
    "ax[1].set_title('High End')\n",
    "ax[2].boxplot(high_end_minus_outlier.followers_count.values)\n",
    "ax[2].set_title('High End\\nMinus Outlier')\n",
    "fig.subplots_adjust(wspace = 0.75)"
   ]
  },
  {
   "cell_type": "markdown",
   "metadata": {
    "slideshow": {
     "slide_type": "fragment"
    }
   },
   "source": [
    "And again we're looking at distribution that skews very strongly to the right. We still can't even make out the box in the boxplot, such the outlier dominance in the dataset.\n",
    "Let's look at the top tweets by `follower_count`."
   ]
  },
  {
   "cell_type": "code",
   "execution_count": 13,
   "metadata": {
    "collapsed": false,
    "slideshow": {
     "slide_type": "slide"
    }
   },
   "outputs": [
    {
     "data": {
      "text/html": [
       "<div>\n",
       "<table border=\"1\" class=\"dataframe\">\n",
       "  <thead>\n",
       "    <tr style=\"text-align: right;\">\n",
       "      <th></th>\n",
       "      <th>created_at</th>\n",
       "      <th>screen_name</th>\n",
       "      <th>id_str</th>\n",
       "      <th>followers_count</th>\n",
       "      <th>textdescription</th>\n",
       "      <th>retweet_count</th>\n",
       "      <th>day</th>\n",
       "    </tr>\n",
       "  </thead>\n",
       "  <tbody>\n",
       "    <tr>\n",
       "      <th>3579</th>\n",
       "      <td>2016-01-19 21:39:25</td>\n",
       "      <td>washingtonpost</td>\n",
       "      <td>689562834330611712</td>\n",
       "      <td>5738471</td>\n",
       "      <td>NaN</td>\n",
       "      <td>30</td>\n",
       "      <td>19 Jan</td>\n",
       "    </tr>\n",
       "    <tr>\n",
       "      <th>2855</th>\n",
       "      <td>2016-01-15 18:00:29</td>\n",
       "      <td>Vibra1049</td>\n",
       "      <td>688058186528522240</td>\n",
       "      <td>545959</td>\n",
       "      <td>NaN</td>\n",
       "      <td>1</td>\n",
       "      <td>15 Jan</td>\n",
       "    </tr>\n",
       "    <tr>\n",
       "      <th>1762</th>\n",
       "      <td>2016-01-16 22:29:05</td>\n",
       "      <td>manuel_c</td>\n",
       "      <td>688488168140713984</td>\n",
       "      <td>422373</td>\n",
       "      <td>NaN</td>\n",
       "      <td>0</td>\n",
       "      <td>16 Jan</td>\n",
       "    </tr>\n",
       "    <tr>\n",
       "      <th>1171</th>\n",
       "      <td>2016-01-13 21:48:22</td>\n",
       "      <td>SimonHoneydew</td>\n",
       "      <td>687390760174489600</td>\n",
       "      <td>293945</td>\n",
       "      <td>NaN</td>\n",
       "      <td>21</td>\n",
       "      <td>13 Jan</td>\n",
       "    </tr>\n",
       "    <tr>\n",
       "      <th>3003</th>\n",
       "      <td>2016-01-15 17:39:29</td>\n",
       "      <td>spin1038</td>\n",
       "      <td>688052899390341120</td>\n",
       "      <td>252379</td>\n",
       "      <td>NaN</td>\n",
       "      <td>5</td>\n",
       "      <td>15 Jan</td>\n",
       "    </tr>\n",
       "    <tr>\n",
       "      <th>2847</th>\n",
       "      <td>2016-01-15 18:01:09</td>\n",
       "      <td>spin1038</td>\n",
       "      <td>688058353411616771</td>\n",
       "      <td>252379</td>\n",
       "      <td>NaN</td>\n",
       "      <td>1</td>\n",
       "      <td>15 Jan</td>\n",
       "    </tr>\n",
       "    <tr>\n",
       "      <th>2388</th>\n",
       "      <td>2016-01-15 20:13:03</td>\n",
       "      <td>spin1038</td>\n",
       "      <td>688091547414335490</td>\n",
       "      <td>252379</td>\n",
       "      <td>NaN</td>\n",
       "      <td>2</td>\n",
       "      <td>15 Jan</td>\n",
       "    </tr>\n",
       "    <tr>\n",
       "      <th>1471</th>\n",
       "      <td>2016-01-13 18:41:23</td>\n",
       "      <td>Independent_ie</td>\n",
       "      <td>687343701123792897</td>\n",
       "      <td>250647</td>\n",
       "      <td>NaN</td>\n",
       "      <td>4</td>\n",
       "      <td>13 Jan</td>\n",
       "    </tr>\n",
       "    <tr>\n",
       "      <th>543</th>\n",
       "      <td>2016-01-14 10:48:21</td>\n",
       "      <td>Independent_ie</td>\n",
       "      <td>687587048212029440</td>\n",
       "      <td>250646</td>\n",
       "      <td>NaN</td>\n",
       "      <td>2</td>\n",
       "      <td>14 Jan</td>\n",
       "    </tr>\n",
       "    <tr>\n",
       "      <th>914</th>\n",
       "      <td>2016-01-13 23:16:42</td>\n",
       "      <td>Independent_ie</td>\n",
       "      <td>687412987989213184</td>\n",
       "      <td>250646</td>\n",
       "      <td>NaN</td>\n",
       "      <td>2</td>\n",
       "      <td>13 Jan</td>\n",
       "    </tr>\n",
       "    <tr>\n",
       "      <th>1633</th>\n",
       "      <td>2016-01-13 16:53:20</td>\n",
       "      <td>JOEdotie</td>\n",
       "      <td>687316511925616640</td>\n",
       "      <td>231216</td>\n",
       "      <td>NaN</td>\n",
       "      <td>3</td>\n",
       "      <td>13 Jan</td>\n",
       "    </tr>\n",
       "    <tr>\n",
       "      <th>3613</th>\n",
       "      <td>2016-01-19 12:48:24</td>\n",
       "      <td>PaulOMahonyEire</td>\n",
       "      <td>689429199220662273</td>\n",
       "      <td>183369</td>\n",
       "      <td>NaN</td>\n",
       "      <td>0</td>\n",
       "      <td>19 Jan</td>\n",
       "    </tr>\n",
       "    <tr>\n",
       "      <th>3046</th>\n",
       "      <td>2016-01-15 17:27:00</td>\n",
       "      <td>RTEgaa</td>\n",
       "      <td>688049757823053825</td>\n",
       "      <td>156799</td>\n",
       "      <td>NaN</td>\n",
       "      <td>10</td>\n",
       "      <td>15 Jan</td>\n",
       "    </tr>\n",
       "    <tr>\n",
       "      <th>2937</th>\n",
       "      <td>2016-01-15 17:49:19</td>\n",
       "      <td>RTEgaa</td>\n",
       "      <td>688055377003417600</td>\n",
       "      <td>156799</td>\n",
       "      <td>NaN</td>\n",
       "      <td>11</td>\n",
       "      <td>15 Jan</td>\n",
       "    </tr>\n",
       "    <tr>\n",
       "      <th>3381</th>\n",
       "      <td>2016-01-14 22:15:26</td>\n",
       "      <td>RossOCK</td>\n",
       "      <td>687759956095971329</td>\n",
       "      <td>155383</td>\n",
       "      <td>NaN</td>\n",
       "      <td>6</td>\n",
       "      <td>14 Jan</td>\n",
       "    </tr>\n",
       "    <tr>\n",
       "      <th>3696</th>\n",
       "      <td>2016-01-18 09:15:34</td>\n",
       "      <td>TheDrum</td>\n",
       "      <td>689013250718044160</td>\n",
       "      <td>150191</td>\n",
       "      <td>NaN</td>\n",
       "      <td>1</td>\n",
       "      <td>18 Jan</td>\n",
       "    </tr>\n",
       "    <tr>\n",
       "      <th>3725</th>\n",
       "      <td>2016-01-17 17:15:11</td>\n",
       "      <td>TheDrum</td>\n",
       "      <td>688771560799338496</td>\n",
       "      <td>150191</td>\n",
       "      <td>NaN</td>\n",
       "      <td>2</td>\n",
       "      <td>17 Jan</td>\n",
       "    </tr>\n",
       "    <tr>\n",
       "      <th>3525</th>\n",
       "      <td>2016-01-20 22:45:34</td>\n",
       "      <td>TheDrum</td>\n",
       "      <td>689941866108850177</td>\n",
       "      <td>150191</td>\n",
       "      <td>NaN</td>\n",
       "      <td>4</td>\n",
       "      <td>20 Jan</td>\n",
       "    </tr>\n",
       "    <tr>\n",
       "      <th>1924</th>\n",
       "      <td>2016-01-16 12:20:22</td>\n",
       "      <td>TheDrum</td>\n",
       "      <td>688334979928080384</td>\n",
       "      <td>149758</td>\n",
       "      <td>NaN</td>\n",
       "      <td>1</td>\n",
       "      <td>16 Jan</td>\n",
       "    </tr>\n",
       "    <tr>\n",
       "      <th>2221</th>\n",
       "      <td>2016-01-15 22:35:18</td>\n",
       "      <td>TheDrum</td>\n",
       "      <td>688127345329328128</td>\n",
       "      <td>149758</td>\n",
       "      <td>NaN</td>\n",
       "      <td>4</td>\n",
       "      <td>15 Jan</td>\n",
       "    </tr>\n",
       "    <tr>\n",
       "      <th>3109</th>\n",
       "      <td>2016-01-15 14:52:50</td>\n",
       "      <td>TheDrum</td>\n",
       "      <td>688010961375096834</td>\n",
       "      <td>149758</td>\n",
       "      <td>NaN</td>\n",
       "      <td>5</td>\n",
       "      <td>15 Jan</td>\n",
       "    </tr>\n",
       "    <tr>\n",
       "      <th>2589</th>\n",
       "      <td>2016-01-15 18:49:46</td>\n",
       "      <td>TheDrum</td>\n",
       "      <td>688070587886006272</td>\n",
       "      <td>149758</td>\n",
       "      <td>NaN</td>\n",
       "      <td>4</td>\n",
       "      <td>15 Jan</td>\n",
       "    </tr>\n",
       "    <tr>\n",
       "      <th>2100</th>\n",
       "      <td>2016-01-16 01:02:01</td>\n",
       "      <td>NewstalkFM</td>\n",
       "      <td>688164266944274433</td>\n",
       "      <td>127998</td>\n",
       "      <td>NaN</td>\n",
       "      <td>0</td>\n",
       "      <td>16 Jan</td>\n",
       "    </tr>\n",
       "    <tr>\n",
       "      <th>2872</th>\n",
       "      <td>2016-01-15 17:58:19</td>\n",
       "      <td>NewstalkFM</td>\n",
       "      <td>688057640019202048</td>\n",
       "      <td>127998</td>\n",
       "      <td>NaN</td>\n",
       "      <td>3</td>\n",
       "      <td>15 Jan</td>\n",
       "    </tr>\n",
       "    <tr>\n",
       "      <th>2456</th>\n",
       "      <td>2016-01-15 19:37:22</td>\n",
       "      <td>NewstalkFM</td>\n",
       "      <td>688082566948220929</td>\n",
       "      <td>127998</td>\n",
       "      <td>NaN</td>\n",
       "      <td>3</td>\n",
       "      <td>15 Jan</td>\n",
       "    </tr>\n",
       "  </tbody>\n",
       "</table>\n",
       "</div>"
      ],
      "text/plain": [
       "              created_at      screen_name              id_str  \\\n",
       "3579 2016-01-19 21:39:25   washingtonpost  689562834330611712   \n",
       "2855 2016-01-15 18:00:29        Vibra1049  688058186528522240   \n",
       "1762 2016-01-16 22:29:05         manuel_c  688488168140713984   \n",
       "1171 2016-01-13 21:48:22    SimonHoneydew  687390760174489600   \n",
       "3003 2016-01-15 17:39:29         spin1038  688052899390341120   \n",
       "2847 2016-01-15 18:01:09         spin1038  688058353411616771   \n",
       "2388 2016-01-15 20:13:03         spin1038  688091547414335490   \n",
       "1471 2016-01-13 18:41:23   Independent_ie  687343701123792897   \n",
       "543  2016-01-14 10:48:21   Independent_ie  687587048212029440   \n",
       "914  2016-01-13 23:16:42   Independent_ie  687412987989213184   \n",
       "1633 2016-01-13 16:53:20         JOEdotie  687316511925616640   \n",
       "3613 2016-01-19 12:48:24  PaulOMahonyEire  689429199220662273   \n",
       "3046 2016-01-15 17:27:00           RTEgaa  688049757823053825   \n",
       "2937 2016-01-15 17:49:19           RTEgaa  688055377003417600   \n",
       "3381 2016-01-14 22:15:26          RossOCK  687759956095971329   \n",
       "3696 2016-01-18 09:15:34          TheDrum  689013250718044160   \n",
       "3725 2016-01-17 17:15:11          TheDrum  688771560799338496   \n",
       "3525 2016-01-20 22:45:34          TheDrum  689941866108850177   \n",
       "1924 2016-01-16 12:20:22          TheDrum  688334979928080384   \n",
       "2221 2016-01-15 22:35:18          TheDrum  688127345329328128   \n",
       "3109 2016-01-15 14:52:50          TheDrum  688010961375096834   \n",
       "2589 2016-01-15 18:49:46          TheDrum  688070587886006272   \n",
       "2100 2016-01-16 01:02:01       NewstalkFM  688164266944274433   \n",
       "2872 2016-01-15 17:58:19       NewstalkFM  688057640019202048   \n",
       "2456 2016-01-15 19:37:22       NewstalkFM  688082566948220929   \n",
       "\n",
       "      followers_count textdescription  retweet_count     day  \n",
       "3579          5738471             NaN             30  19 Jan  \n",
       "2855           545959             NaN              1  15 Jan  \n",
       "1762           422373             NaN              0  16 Jan  \n",
       "1171           293945             NaN             21  13 Jan  \n",
       "3003           252379             NaN              5  15 Jan  \n",
       "2847           252379             NaN              1  15 Jan  \n",
       "2388           252379             NaN              2  15 Jan  \n",
       "1471           250647             NaN              4  13 Jan  \n",
       "543            250646             NaN              2  14 Jan  \n",
       "914            250646             NaN              2  13 Jan  \n",
       "1633           231216             NaN              3  13 Jan  \n",
       "3613           183369             NaN              0  19 Jan  \n",
       "3046           156799             NaN             10  15 Jan  \n",
       "2937           156799             NaN             11  15 Jan  \n",
       "3381           155383             NaN              6  14 Jan  \n",
       "3696           150191             NaN              1  18 Jan  \n",
       "3725           150191             NaN              2  17 Jan  \n",
       "3525           150191             NaN              4  20 Jan  \n",
       "1924           149758             NaN              1  16 Jan  \n",
       "2221           149758             NaN              4  15 Jan  \n",
       "3109           149758             NaN              5  15 Jan  \n",
       "2589           149758             NaN              4  15 Jan  \n",
       "2100           127998             NaN              0  16 Jan  \n",
       "2872           127998             NaN              3  15 Jan  \n",
       "2456           127998             NaN              3  15 Jan  "
      ]
     },
     "execution_count": 13,
     "metadata": {},
     "output_type": "execute_result"
    }
   ],
   "source": [
    "high_end_examined = high_end.sort_values('followers_count', ascending = False)\n",
    "high_end_examined.head(25)"
   ]
  },
  {
   "cell_type": "markdown",
   "metadata": {
    "slideshow": {
     "slide_type": "slide"
    }
   },
   "source": [
    "We need to go back to the original data to see the text descriptions of the accounts and the tweets in the top ten tweets here. We can use `id_str` to do that:"
   ]
  },
  {
   "cell_type": "code",
   "execution_count": 14,
   "metadata": {
    "collapsed": false,
    "slideshow": {
     "slide_type": "slide"
    }
   },
   "outputs": [
    {
     "name": "stdout",
     "output_type": "stream",
     "text": [
      "Independent_ie\n",
      "Followers: 250,646\n",
      "Official Twitter for Independent.ie, providing #breaking news content to 10million readers a month.\n",
      "Get in touch: contact@independent.ie, #IndoSubmit\n",
      "2016-01-14 10:48:21\n",
      "RT @IndoSport: The 'Pink Ladyball' - innovative marketing at its finest: https://t.co/k4D2ED40Eo #LadyBall https://t.co/v2tZ60sDdK\n",
      "\n",
      "\n",
      "Independent_ie\n",
      "Followers: 250,646\n",
      "2016-01-13 23:16:42\n",
      "#Ladyball sparks strong reaction on Twitter.... https://t.co/Bow2tLfdcw\n",
      "\n",
      "\n",
      "SimonHoneydew\n",
      "Followers: 293,945\n",
      "YouTuber, Cosplayer, Dancer, World #1 Anime Fan, Make-up Artist Tutor, League of Legends Pro Streamer, Podcaster, Co-Founder of Yogscast\n",
      "2016-01-13 21:48:22\n",
      "RT @theladyball_com: Don't break a nail, break boundaries with #Ladyball https://t.co/Ixpmn4Bky1\n",
      "\n",
      "\n",
      "Independent_ie\n",
      "Followers: 250,647\n",
      "2016-01-13 18:41:23\n",
      "RT @IndoSport: Pink 'Ladyball' for women sparks strong reaction on Twitter https://t.co/mBc1Gdn0Bb #Ladyball https://t.co/FrJyFi1x6d\n",
      "\n",
      "\n",
      "manuel_c\n",
      "Followers: 422,373\n",
      "Luxury product consultant, social media strategist/addict. All about brand/customer experience. Food,travel & bourbon buff, red tape nemesis. Personal account.\n",
      "2016-01-16 22:29:05\n",
      "This Genius Marketing Campaign Says Everything About Women's Sports https://t.co/6itHoFsx3K #ladyball\n",
      "\n",
      "\n",
      "spin1038\n",
      "Followers: 252,379\n",
      "No.1 for Music & Entertainment\n",
      "2016-01-15 20:13:03\n",
      "The real meaning behind the #Ladyball - https://t.co/MT43vnMAtB\n",
      "\n",
      "\n",
      "spin1038\n",
      "Followers: 252,379\n",
      "2016-01-15 18:01:09\n",
      "It was Lidl trolling us with those #Ladyball ads! https://t.co/yX7ltArFGB\n",
      "\n",
      "\n",
      "Vibra1049\n",
      "Followers: 545,959\n",
      "La mejor música en español: pop, baladas, música para planchar y romántica.\n",
      "2016-01-15 18:00:29\n",
      "¿Te sentirías más atraída por los deportes si los balones fueran rosados  #Ladyball? Aquí https://t.co/daGzpKmYVh https://t.co/qyEbtGbbpp\n",
      "\n",
      "\n",
      "spin1038\n",
      "Followers: 252,379\n",
      "2016-01-15 17:39:29\n",
      "The message behind the #Ladyball revealed - https://t.co/XAU59zFiXW https://t.co/oFdN7Jt7GW\n",
      "\n",
      "\n",
      "washingtonpost\n",
      "Followers: 5,738,471\n",
      "Tweet-length breaking news, analysis from around the world. Founded in 1877. Follow our journalists on Twitter: https://t.co/VV0UBAMHg8\n",
      "2016-01-19 21:39:25\n",
      "What does the fake #ladyball campaign say about women’s sports? https://t.co/t4TLm97Lr6\n",
      "\n",
      "\n"
     ]
    }
   ],
   "source": [
    "my_ids = list(high_end_examined.id_str)[:10]\n",
    "description_catcher = [] #So we don't print the descriptions more than once.\n",
    "for tweet in ladyballs:\n",
    "    if tweet.id_str in my_ids:\n",
    "        print tweet.user.screen_name\n",
    "        print \"Followers: {:,}\".format(tweet.user.followers_count)\n",
    "        if tweet.user.description not in description_catcher:\n",
    "            print tweet.user.description\n",
    "            description_catcher.append(tweet.user.description)\n",
    "        print tweet.created_at\n",
    "        print tweet.text\n",
    "        print '\\n'"
   ]
  },
  {
   "cell_type": "markdown",
   "metadata": {
    "collapsed": false,
    "slideshow": {
     "slide_type": "slide"
    }
   },
   "source": [
    "### Chatter v Reach\n",
    "Now we're coming to the heart of Twitter. The fundamental question you have to answer, as you're trying to get your message out on Twitter, is this: Does it matter who's talking about you? Are many tweets by tweeters with small amounts of followers as good as a single tweet by a user with a huge amount of followers?"
   ]
  },
  {
   "cell_type": "markdown",
   "metadata": {
    "slideshow": {
     "slide_type": "fragment"
    }
   },
   "source": [
    "### Time v Reach\n",
    "This is our final graph of the evening. We're plotting the reach of the `#ladyball` hashtag against the number of times it was mentioned. We'll plot on different axes as it makes for a better visual comparison."
   ]
  },
  {
   "cell_type": "code",
   "execution_count": 26,
   "metadata": {
    "collapsed": false,
    "slideshow": {
     "slide_type": "slide"
    }
   },
   "outputs": [
    {
     "data": {
      "text/plain": [
       "<matplotlib.text.Text at 0x12fdba710>"
      ]
     },
     "execution_count": 26,
     "metadata": {},
     "output_type": "execute_result"
    },
    {
     "data": {
      "image/png": "[encoded data removed]",
      "text/plain": [
       "<matplotlib.figure.Figure at 0x12f54bc10>"
      ]
     },
     "metadata": {},
     "output_type": "display_data"
    }
   ],
   "source": [
    "tweet_count = []\n",
    "tweet_reach = []\n",
    "for a, b in ladyballs_by_day:\n",
    "    tweet_count.append(b.created_at.count())\n",
    "    tweet_reach.append(b.followers_count.sum())\n",
    "%matplotlib inline\n",
    "days = []\n",
    "[days.append(a) for a, b in ladyballs_by_day]\n",
    "%matplotlib inline\n",
    "fig, ax1 = plt.subplots()\n",
    "ax1.plot(tweet_count, \"r-\", label = 'count')\n",
    "ax2 = ax1.twinx()\n",
    "ax2.plot(tweet_reach, 'b--', label = 'reach')\n",
    "ax1.set_xticks(range(len(days)))\n",
    "ax1.set_xticklabels(days, rotation = 45)\n",
    "ax1.set_ylabel('Count')\n",
    "ax2.set_ylabel('Reach')\n",
    "# http://matplotlib.org/examples/api/two_scales.html"
   ]
  },
  {
   "cell_type": "markdown",
   "metadata": {
    "slideshow": {
     "slide_type": "subslide"
    }
   },
   "source": [
    "### By Request: A Log Scale\n",
    "There was a request during the presentation to view these charts as log scales, and I've now added that below. I would still argue the linear scales on different y-axes is the more visually impressive however."
   ]
  },
  {
   "cell_type": "code",
   "execution_count": 22,
   "metadata": {
    "collapsed": false,
    "slideshow": {
     "slide_type": "fragment"
    }
   },
   "outputs": [
    {
     "data": {
      "text/plain": [
       "<matplotlib.legend.Legend at 0x12ec77d50>"
      ]
     },
     "execution_count": 22,
     "metadata": {},
     "output_type": "execute_result"
    },
    {
     "data": {
      "image/png": "[encoded data removed]",
      "text/plain": [
       "<matplotlib.figure.Figure at 0x11749ce50>"
      ]
     },
     "metadata": {},
     "output_type": "display_data"
    }
   ],
   "source": [
    "tweet_count = []\n",
    "tweet_reach = []\n",
    "for a, b in ladyballs_by_day:\n",
    "    tweet_count.append(b.created_at.count())\n",
    "    tweet_reach.append(b.followers_count.sum())\n",
    "%matplotlib inline\n",
    "days = []\n",
    "[days.append(a) for a, b in ladyballs_by_day]\n",
    "%matplotlib inline\n",
    "plt.semilogy(tweet_count, \"r-\", label = 'count')\n",
    "plt.semilogy(tweet_reach, 'b--', label = 'reach')\n",
    "plt.xticks(range(len(days)), days, rotation = 45)\n",
    "plt.legend()"
   ]
  },
  {
   "cell_type": "markdown",
   "metadata": {
    "collapsed": true,
    "slideshow": {
     "slide_type": "slide"
    }
   },
   "source": [
    "So here we can see that reach is reasonably proportional to chatter / number of tweets during the peak of the `#ladyball` hashtag's life cycle, but the hashtag reaches its highest reach just as it's dying off and people aren't interested anymore. These are the numbers:"
   ]
  },
  {
   "cell_type": "code",
   "execution_count": 16,
   "metadata": {
    "collapsed": false,
    "slideshow": {
     "slide_type": "fragment"
    }
   },
   "outputs": [
    {
     "name": "stdout",
     "output_type": "stream",
     "text": [
      "Date\tCount\tReach\n",
      "09 Jan\t    1\t        48\n",
      "11 Jan\t    1\t     5,312\n",
      "13 Jan\t  901\t 3,092,344\n",
      "14 Jan\t  966\t 3,122,821\n",
      "15 Jan\t 1208\t 5,644,684\n",
      "16 Jan\t  381\t 1,554,422\n",
      "17 Jan\t   75\t   338,193\n",
      "18 Jan\t   68\t   293,447\n",
      "19 Jan\t   90\t 6,451,310\n",
      "20 Jan\t   26\t   186,680\n",
      "21 Jan\t   36\t   189,709\n",
      "22 Jan\t   18\t    31,835\n",
      "23 Jan\t    3\t     9,999\n"
     ]
    }
   ],
   "source": [
    "counter = len(tweet_count)\n",
    "print \"Date\\tCount\\tReach\"\n",
    "for c in range(counter):\n",
    "    print \"{}\\t{:>5}\\t{:>10,}\".format(days[c], tweet_count[c], tweet_reach[c])"
   ]
  },
  {
   "cell_type": "markdown",
   "metadata": {
    "slideshow": {
     "slide_type": "slide"
    }
   },
   "source": [
    "### So. Was it Worth It?\n",
    "Was the `#ladyball` tweet worth the controversy it caused?"
   ]
  },
  {
   "cell_type": "markdown",
   "metadata": {
    "slideshow": {
     "slide_type": "fragment"
    }
   },
   "source": [
    "#### Yes\n",
    "It got people talking, which is the point of any publicity and/or advertising campaign."
   ]
  },
  {
   "cell_type": "markdown",
   "metadata": {
    "slideshow": {
     "slide_type": "fragment"
    }
   },
   "source": [
    "#### Yes\n",
    "The initial negative feedback was hugely overweighed by the positive mentions, especially the one in the [Washington Post](http://www.washingtonpost)."
   ]
  },
  {
   "cell_type": "markdown",
   "metadata": {
    "slideshow": {
     "slide_type": "fragment"
    }
   },
   "source": [
    "#### No\n",
    "This is a little meta but: `#ladyball` was a success as a teaser to the campaign. But once the true point of `#ladyball` was revealed, what was left for people to be upset about, or happy about, or engaged with? There was no way to build from `#ladyball` on to the avowed purpose of it all, Lidl's sponsorship of ladies' football. The Washington Post piece was very worthy and is sure to be front-and-centre when the advertising agency put their bill together, but in what way did the `#ladyball`campaign get more people interested in ladies' Gaelic football or get more people shopping at Lidl? That case isn't proven."
   ]
  },
  {
   "cell_type": "markdown",
   "metadata": {
    "slideshow": {
     "slide_type": "slide"
    }
   },
   "source": [
    "### Addendum - the &#35;serioussupport Hashtag\n",
    "Brian Ward was good enough to point out in the post-presentation discussion on [Python Ireland](http://www.meetup.com/pythonireland/events/226191290/) that Lidl's post-ladyball hashtag is `#serioussupport`. So I ran the search detailed above for `#serioussupport` to see how that's been doing. We're not quite comparing like-with-like, but we'll certainly be able to get a sense of the comparison.\n",
    "\n",
    "I've changed the code to create the dataframe to a function above, and I'll use that now to create a second dataframe to see what sort of business `#serioussupport` is doing."
   ]
  },
  {
   "cell_type": "code",
   "execution_count": 29,
   "metadata": {
    "collapsed": false,
    "slideshow": {
     "slide_type": "slide"
    }
   },
   "outputs": [
    {
     "name": "stdout",
     "output_type": "stream",
     "text": [
      "              created_at screen_name              id_str  followers_count  \\\n",
      "2027 2016-02-04 13:01:42    WeAreDub  695230749142880257             3758   \n",
      "1415 2016-02-04 13:01:42    WeAreDub  695230749142880257             3758   \n",
      "1414 2016-02-04 13:01:42    WeAreDub  695230749142880257             3758   \n",
      "1413 2016-02-04 13:01:42    WeAreDub  695230749142880257             3758   \n",
      "1412 2016-02-04 13:01:42    WeAreDub  695230749142880257             3758   \n",
      "1411 2016-02-04 13:01:42    WeAreDub  695230749142880257             3758   \n",
      "1410 2016-02-04 13:01:42    WeAreDub  695230749142880257             3758   \n",
      "1409 2016-02-04 13:01:42    WeAreDub  695230749142880257             3758   \n",
      "1408 2016-02-04 13:01:42    WeAreDub  695230749142880257             3758   \n",
      "1407 2016-02-04 13:01:42    WeAreDub  695230749142880257             3758   \n",
      "\n",
      "     textdescription  retweet_count  \n",
      "2027             NaN              1  \n",
      "1415             NaN              1  \n",
      "1414             NaN              1  \n",
      "1413             NaN              1  \n",
      "1412             NaN              1  \n",
      "1411             NaN              1  \n",
      "1410             NaN              1  \n",
      "1409             NaN              1  \n",
      "1408             NaN              1  \n",
      "1407             NaN              1  \n"
     ]
    }
   ],
   "source": [
    "with open(\"serioussupport20160213\") as f:\n",
    "    support_list = pickle.load(f)\n",
    "    \n",
    "support = create_dataframe(support_list)\n",
    "support.sort_values('created_at', inplace=True, ascending=True)\n",
    "print support.head(10)"
   ]
  },
  {
   "cell_type": "markdown",
   "metadata": {
    "slideshow": {
     "slide_type": "slide"
    }
   },
   "source": [
    "### Looking at the Life-Cycle"
   ]
  },
  {
   "cell_type": "code",
   "execution_count": 30,
   "metadata": {
    "collapsed": false,
    "slideshow": {
     "slide_type": "fragment"
    }
   },
   "outputs": [
    {
     "name": "stdout",
     "output_type": "stream",
     "text": [
      "04 Feb 945\n",
      "05 Feb 216\n",
      "06 Feb 193\n",
      "07 Feb 421\n",
      "08 Feb 34\n",
      "09 Feb 36\n",
      "10 Feb 46\n",
      "11 Feb 43\n",
      "12 Feb 65\n",
      "13 Feb 29\n"
     ]
    }
   ],
   "source": [
    "day_month = [tweet.strftime('%d %b') for tweet in support['created_at']]\n",
    "support['day'] = day_month\n",
    "support_by_day = support.groupby('day')\n",
    "for a, b in support_by_day:\n",
    "    print a, b.created_at.count()"
   ]
  },
  {
   "cell_type": "markdown",
   "metadata": {
    "slideshow": {
     "slide_type": "fragment"
    }
   },
   "source": [
    "So we see very busy engagement on February 4th which falls away then for the rest of the week. We also saw from looking at the first ten rows of the data frame that these are all from the WeAreDub account, which identifies itself as the official media partners of Dublin Camogie. Camogie and Ladies' football are sisters, but they are not the same organisation. Let's look at reach."
   ]
  },
  {
   "cell_type": "code",
   "execution_count": 34,
   "metadata": {
    "collapsed": false,
    "slideshow": {
     "slide_type": "slide"
    }
   },
   "outputs": [
    {
     "data": {
      "text/plain": [
       "<matplotlib.text.Text at 0x1319e7990>"
      ]
     },
     "execution_count": 34,
     "metadata": {},
     "output_type": "execute_result"
    },
    {
     "data": {
      "image/png": "[encoded data removed]",
      "text/plain": [
       "<matplotlib.figure.Figure at 0x12f0be290>"
      ]
     },
     "metadata": {},
     "output_type": "display_data"
    }
   ],
   "source": [
    "plt.boxplot(support.followers_count.values)\n",
    "plt.title('Follower Counts of #serioussupport Tweeters')"
   ]
  },
  {
   "cell_type": "markdown",
   "metadata": {
    "slideshow": {
     "slide_type": "fragment"
    }
   },
   "source": [
    "In an Irish context, that's not too bad. In comparision with the reach of `#ladyball`, it's not in the same league."
   ]
  },
  {
   "cell_type": "markdown",
   "metadata": {
    "slideshow": {
     "slide_type": "slide"
    }
   },
   "source": [
    "### The Tweeters Themselves\n",
    "It's often interesting to see who's doing the actual tweeting. If it's the same few accounts over and over, the thing hasn't caught on. A diverse spread of tweeters is a sign of something having gone viral."
   ]
  },
  {
   "cell_type": "code",
   "execution_count": 45,
   "metadata": {
    "collapsed": false,
    "slideshow": {
     "slide_type": "fragment"
    }
   },
   "outputs": [
    {
     "data": {
      "text/plain": [
       "WeAreDub           934\n",
       "LadiesFootball      40\n",
       "meathladiesMLGF     39\n",
       "CavanLGFA           34\n",
       "Mayo_LGFA           24\n",
       "LeinsterLGFA        20\n",
       "MonaghanLadies      15\n",
       "Twing_IRL           12\n",
       "R0CSTR0NG           12\n",
       "StCillesLadies      12\n",
       "extratime_sport     11\n",
       "erinoneill14        11\n",
       "WHLadiesGAA          9\n",
       "conorpbarry          8\n",
       "itajrd               8\n",
       "kerryladiesfoot      7\n",
       "MidlandsSport        7\n",
       "LMFMRADIO            7\n",
       "allthingsmayo        7\n",
       "LaoisLadies          6\n",
       "cavangaascores       6\n",
       "KeithOReillly        6\n",
       "lidl_ireland         6\n",
       "WaterfordLGFA        6\n",
       "dublinh16            6\n",
       "odea_jj              5\n",
       "WexLadiesFoot        5\n",
       "mc_claudine          5\n",
       "AlanGunn2429         5\n",
       "Armaghladiesga1      5\n",
       "                  ... \n",
       "thecailinrua         1\n",
       "AineByrne94          1\n",
       "Denis_Hurley         1\n",
       "GhostxSkillz         1\n",
       "LaurieRyan2          1\n",
       "AilishBracken        1\n",
       "marieva51            1\n",
       "YoungBurkey          1\n",
       "lynsavo              1\n",
       "CarmelMcCartney      1\n",
       "lauren_gray2015      1\n",
       "eringannon1          1\n",
       "VenomFilm            1\n",
       "BreifneEarley        1\n",
       "MichaelaMcfly        1\n",
       "AmandaColeen         1\n",
       "coilinduffy          1\n",
       "AideenBorges123      1\n",
       "Costello_Cc          1\n",
       "ashjclery            1\n",
       "KennedyLoulou        1\n",
       "Roisinf1998          1\n",
       "mancirishfest        1\n",
       "FairGameCast         1\n",
       "hannaoneillx         1\n",
       "damienmulley         1\n",
       "gormleyw             1\n",
       "roisinm7             1\n",
       "andreagilligan       1\n",
       "Michelle_myers3      1\n",
       "Name: screen_name, dtype: int64"
      ]
     },
     "execution_count": 45,
     "metadata": {},
     "output_type": "execute_result"
    }
   ],
   "source": [
    "support.screen_name.value_counts()"
   ]
  },
  {
   "cell_type": "markdown",
   "metadata": {
    "slideshow": {
     "slide_type": "slide"
    }
   },
   "source": [
    "And this is bad news indeed for the `#serioussupport` hashtag. There are 2,028 tweets in result set, and 934 of them are from one account. That's 46%. In terms of advertising success, `#ladyball` beats `#serioussupport` by a walkover."
   ]
  }
 ],
 "metadata": {
  "celltoolbar": "Slideshow",
  "kernelspec": {
   "display_name": "Python 2",
   "language": "python",
   "name": "python2"
  },
  "language_info": {
   "codemirror_mode": {
    "name": "ipython",
    "version": 2
   },
   "file_extension": ".py",
   "mimetype": "text/x-python",
   "name": "python",
   "nbconvert_exporter": "python",
   "pygments_lexer": "ipython2",
   "version": "2.7.11"
  }
 },
 "nbformat": 4,
 "nbformat_minor": 0
}
